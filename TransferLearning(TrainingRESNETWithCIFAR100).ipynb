{
  "nbformat": 4,
  "nbformat_minor": 0,
  "metadata": {
    "colab": {
      "name": "TransferLearning(TrainingRESNETWithCIFAR100).ipynb",
      "provenance": []
    },
    "kernelspec": {
      "name": "python3",
      "display_name": "Python 3"
    },
    "accelerator": "GPU"
  },
  "cells": [
    {
      "cell_type": "markdown",
      "metadata": {
        "id": "y9-xxE8ihdqP",
        "colab_type": "text"
      },
      "source": [
        "Import Classes"
      ]
    },
    {
      "cell_type": "code",
      "metadata": {
        "id": "d5gLE_LZhcHx",
        "colab_type": "code",
        "colab": {
          "base_uri": "https://localhost:8080/",
          "height": 34
        },
        "outputId": "ba640d29-0582-498d-90e5-6de274cbeb89"
      },
      "source": [
        "import numpy as np\n",
        "from tensorflow.keras.applications.resnet50 import ResNet50, preprocess_input\n",
        "import tensorflow.keras as keras\n",
        "from tensorflow.keras.models import Model, Sequential\n",
        "from tensorflow.keras.layers import Input, UpSampling2D, Flatten, BatchNormalization, Dense, Dropout, GlobalAveragePooling2D\n",
        "from tensorflow.keras import optimizers\n",
        "from keras.datasets import cifar100\n",
        "import tensorflow as tf\n",
        "from keras.utils import np_utils\n",
        "import matplotlib.pyplot as plt\n",
        "import time\n",
        "from skimage.transform import resize\n",
        "from keras.applications.resnet50 import preprocess_input, decode_predictions\n",
        "from keras.preprocessing.image import ImageDataGenerator"
      ],
      "execution_count": 1,
      "outputs": [
        {
          "output_type": "stream",
          "text": [
            "Using TensorFlow backend.\n"
          ],
          "name": "stderr"
        }
      ]
    },
    {
      "cell_type": "markdown",
      "metadata": {
        "id": "PdB1L6N7hgkb",
        "colab_type": "text"
      },
      "source": [
        "Eraser"
      ]
    },
    {
      "cell_type": "code",
      "metadata": {
        "id": "6_K3cvKvgl6T",
        "colab_type": "code",
        "colab": {}
      },
      "source": [
        "def get_random_eraser(p=0.5, s_l=0.02, s_h=0.4, r_1=0.3, r_2=1/0.3, v_l=0, v_h=255, pixel_level=False):\n",
        "    def eraser(input_img):\n",
        "        img_h, img_w, img_c = input_img.shape\n",
        "        p_1 = np.random.rand()\n",
        "\n",
        "        if p_1 > p:\n",
        "            return input_img\n",
        "\n",
        "        while True:\n",
        "            s = np.random.uniform(s_l, s_h) * img_h * img_w\n",
        "            r = np.random.uniform(r_1, r_2)\n",
        "            w = int(np.sqrt(s / r))\n",
        "            h = int(np.sqrt(s * r))\n",
        "            left = np.random.randint(0, img_w)\n",
        "            top = np.random.randint(0, img_h)\n",
        "\n",
        "            if left + w <= img_w and top + h <= img_h:\n",
        "                break\n",
        "\n",
        "        if pixel_level:\n",
        "            c = np.random.uniform(v_l, v_h, (h, w, img_c))\n",
        "        else:\n",
        "            c = np.random.uniform(v_l, v_h)\n",
        "\n",
        "        input_img[top:top + h, left:left + w, :] = c\n",
        "\n",
        "        return input_img\n",
        "\n",
        "    return eraser"
      ],
      "execution_count": 0,
      "outputs": []
    },
    {
      "cell_type": "markdown",
      "metadata": {
        "id": "QyIcpeKzhiEw",
        "colab_type": "text"
      },
      "source": [
        "Prepare the dataset"
      ]
    },
    {
      "cell_type": "code",
      "metadata": {
        "id": "xhfoyymqg7_M",
        "colab_type": "code",
        "colab": {
          "base_uri": "https://localhost:8080/",
          "height": 51
        },
        "outputId": "2b9653a9-ede8-4748-f54d-339a3a70c9b9"
      },
      "source": [
        "num_classes = 100\n",
        "nb_epochs = 10\n",
        "\n",
        "(x_train, y_train), (x_test, y_test) = cifar100.load_data()\n",
        "\n",
        "raw_x_test = x_test\n",
        "raw_y_test = y_test\n",
        "\n",
        "#Pre-process the data\n",
        "x_train = preprocess_input(x_train)\n",
        "x_test = preprocess_input(x_test)\n",
        "\n",
        "datagen = ImageDataGenerator(preprocessing_function=get_random_eraser(v_l=0, v_h=1, pixel_level=True))\n",
        "datagen.fit(x_train)"
      ],
      "execution_count": 3,
      "outputs": [
        {
          "output_type": "stream",
          "text": [
            "Downloading data from https://www.cs.toronto.edu/~kriz/cifar-100-python.tar.gz\n",
            "169009152/169001437 [==============================] - 4s 0us/step\n"
          ],
          "name": "stdout"
        }
      ]
    },
    {
      "cell_type": "code",
      "metadata": {
        "id": "YSd5OqS2g9JH",
        "colab_type": "code",
        "colab": {}
      },
      "source": [
        "y_train = np_utils.to_categorical(y_train, num_classes)\n",
        "y_test = np_utils.to_categorical(y_test, num_classes)"
      ],
      "execution_count": 0,
      "outputs": []
    },
    {
      "cell_type": "markdown",
      "metadata": {
        "id": "ZinzxNlJhlbR",
        "colab_type": "text"
      },
      "source": [
        "Form the model"
      ]
    },
    {
      "cell_type": "code",
      "metadata": {
        "id": "KetzI0isg-Or",
        "colab_type": "code",
        "colab": {
          "base_uri": "https://localhost:8080/",
          "height": 51
        },
        "outputId": "53ae5d3a-04f8-4fd6-e3c1-c509994e22c9"
      },
      "source": [
        "resnet_model = ResNet50(weights='imagenet', include_top=False, input_shape=(224, 224, 3))\n",
        "\n",
        "for layer in resnet_model.layers:\n",
        "    if isinstance(layer, BatchNormalization):\n",
        "        layer.trainable = True\n",
        "    else:\n",
        "        layer.trainable = False\n",
        "\n",
        "model = Sequential()\n",
        "model.add(UpSampling2D())\n",
        "model.add(UpSampling2D())\n",
        "model.add(UpSampling2D())\n",
        "model.add(resnet_model)\n",
        "model.add(GlobalAveragePooling2D())\n",
        "model.add(Dense(256, activation='relu'))\n",
        "model.add(Dropout(.25))\n",
        "model.add(BatchNormalization())\n",
        "model.add(Dense(num_classes, activation='softmax'))"
      ],
      "execution_count": 5,
      "outputs": [
        {
          "output_type": "stream",
          "text": [
            "Downloading data from https://storage.googleapis.com/tensorflow/keras-applications/resnet/resnet50_weights_tf_dim_ordering_tf_kernels_notop.h5\n",
            "94773248/94765736 [==============================] - 1s 0us/step\n"
          ],
          "name": "stdout"
        }
      ]
    },
    {
      "cell_type": "markdown",
      "metadata": {
        "id": "e3QVpatLhsJw",
        "colab_type": "text"
      },
      "source": [
        "Training"
      ]
    },
    {
      "cell_type": "code",
      "metadata": {
        "id": "48YWkv26g_Z3",
        "colab_type": "code",
        "colab": {
          "base_uri": "https://localhost:8080/",
          "height": 751
        },
        "outputId": "23622a49-b1d7-4417-ecbb-5fadc56664bc"
      },
      "source": [
        "model.compile(loss='categorical_crossentropy',optimizer='adam',metrics=['accuracy'])\n",
        "batch_size = 64\n",
        "t=time.time()\n",
        "historytemp = model.fit_generator(datagen.flow(x_train, y_train,\n",
        "                                  batch_size=batch_size),\n",
        "                                  steps_per_epoch=x_train.shape[0] // batch_size,\n",
        "                                  epochs=20,\n",
        "                                  validation_data=(x_test, y_test))\n",
        "print('Training time: %s' % (t - time.time()))"
      ],
      "execution_count": 7,
      "outputs": [
        {
          "output_type": "stream",
          "text": [
            "Epoch 1/20\n",
            "781/781 [==============================] - ETA: 0s - loss: 1.8463 - accuracy: 0.5153WARNING:tensorflow:Model was constructed with shape (None, 224, 224, 3) for input Tensor(\"input_1:0\", shape=(None, 224, 224, 3), dtype=float32), but it was called on an input with incompatible shape (None, 256, 256, 3).\n",
            "781/781 [==============================] - 262s 336ms/step - loss: 1.8463 - accuracy: 0.5153 - val_loss: 1.0000 - val_accuracy: 0.6996\n",
            "Epoch 2/20\n",
            "781/781 [==============================] - 261s 334ms/step - loss: 1.1386 - accuracy: 0.6722 - val_loss: 0.8123 - val_accuracy: 0.7559\n",
            "Epoch 3/20\n",
            "781/781 [==============================] - 260s 334ms/step - loss: 0.9551 - accuracy: 0.7202 - val_loss: 0.7820 - val_accuracy: 0.7640\n",
            "Epoch 4/20\n",
            "781/781 [==============================] - 261s 334ms/step - loss: 0.8646 - accuracy: 0.7411 - val_loss: 0.7321 - val_accuracy: 0.7757\n",
            "Epoch 5/20\n",
            "781/781 [==============================] - 261s 334ms/step - loss: 0.7931 - accuracy: 0.7619 - val_loss: 0.7408 - val_accuracy: 0.7844\n",
            "Epoch 6/20\n",
            "781/781 [==============================] - 261s 334ms/step - loss: 0.7364 - accuracy: 0.7774 - val_loss: 0.7182 - val_accuracy: 0.7860\n",
            "Epoch 7/20\n",
            "781/781 [==============================] - 261s 334ms/step - loss: 0.6889 - accuracy: 0.7896 - val_loss: 0.7066 - val_accuracy: 0.7892\n",
            "Epoch 8/20\n",
            "781/781 [==============================] - 261s 334ms/step - loss: 0.6416 - accuracy: 0.8018 - val_loss: 0.7314 - val_accuracy: 0.7882\n",
            "Epoch 9/20\n",
            "781/781 [==============================] - 260s 333ms/step - loss: 0.6070 - accuracy: 0.8118 - val_loss: 0.6994 - val_accuracy: 0.7951\n",
            "Epoch 10/20\n",
            "781/781 [==============================] - 260s 333ms/step - loss: 0.5757 - accuracy: 0.8213 - val_loss: 0.7028 - val_accuracy: 0.7984\n",
            "Epoch 11/20\n",
            "781/781 [==============================] - 260s 334ms/step - loss: 0.5518 - accuracy: 0.8291 - val_loss: 0.6963 - val_accuracy: 0.7990\n",
            "Epoch 12/20\n",
            "781/781 [==============================] - 260s 333ms/step - loss: 0.5290 - accuracy: 0.8366 - val_loss: 0.7101 - val_accuracy: 0.8037\n",
            "Epoch 13/20\n",
            "781/781 [==============================] - 260s 333ms/step - loss: 0.4965 - accuracy: 0.8443 - val_loss: 0.7164 - val_accuracy: 0.7986\n",
            "Epoch 14/20\n",
            "781/781 [==============================] - 260s 333ms/step - loss: 0.4860 - accuracy: 0.8475 - val_loss: 0.7356 - val_accuracy: 0.7999\n",
            "Epoch 15/20\n",
            "781/781 [==============================] - 260s 333ms/step - loss: 0.4592 - accuracy: 0.8580 - val_loss: 0.7520 - val_accuracy: 0.7951\n",
            "Epoch 16/20\n",
            "781/781 [==============================] - 260s 333ms/step - loss: 0.4550 - accuracy: 0.8571 - val_loss: 0.7323 - val_accuracy: 0.7987\n",
            "Epoch 17/20\n",
            "781/781 [==============================] - 260s 333ms/step - loss: 0.4318 - accuracy: 0.8647 - val_loss: 0.7590 - val_accuracy: 0.8002\n",
            "Epoch 18/20\n",
            "781/781 [==============================] - 260s 333ms/step - loss: 0.4213 - accuracy: 0.8687 - val_loss: 0.7542 - val_accuracy: 0.7991\n",
            "Epoch 19/20\n",
            "781/781 [==============================] - 260s 333ms/step - loss: 0.4015 - accuracy: 0.8731 - val_loss: 0.7782 - val_accuracy: 0.7993\n",
            "Epoch 20/20\n",
            "781/781 [==============================] - 260s 333ms/step - loss: 0.3917 - accuracy: 0.8756 - val_loss: 0.7576 - val_accuracy: 0.8015\n",
            "Training time: -5220.339875221252\n"
          ],
          "name": "stdout"
        }
      ]
    },
    {
      "cell_type": "markdown",
      "metadata": {
        "id": "lNuo49CBhu85",
        "colab_type": "text"
      },
      "source": [
        "Prediction & Evaluation"
      ]
    },
    {
      "cell_type": "code",
      "metadata": {
        "id": "HYt2rTutg_wA",
        "colab_type": "code",
        "colab": {}
      },
      "source": [
        "pred = model.predict(x = x_test, batch_size = 64)"
      ],
      "execution_count": 0,
      "outputs": []
    },
    {
      "cell_type": "code",
      "metadata": {
        "id": "amlk-nB4hBeA",
        "colab_type": "code",
        "colab": {
          "base_uri": "https://localhost:8080/",
          "height": 153
        },
        "outputId": "558fce1f-d2bb-4ad7-f65d-23a908ef2aec"
      },
      "source": [
        "from PIL import Image\n",
        "import matplotlib.pyplot as plt\n",
        "\n",
        "\n",
        "CIFAR100_LABELS_LIST = [\n",
        "    'apple', 'aquarium_fish', 'baby', 'bear', 'beaver', 'bed', 'bee', 'beetle', \n",
        "    'bicycle', 'bottle', 'bowl', 'boy', 'bridge', 'bus', 'butterfly', 'camel', \n",
        "    'can', 'castle', 'caterpillar', 'cattle', 'chair', 'chimpanzee', 'clock', \n",
        "    'cloud', 'cockroach', 'couch', 'crab', 'crocodile', 'cup', 'dinosaur', \n",
        "    'dolphin', 'elephant', 'flatfish', 'forest', 'fox', 'girl', 'hamster', \n",
        "    'house', 'kangaroo', 'keyboard', 'lamp', 'lawn_mower', 'leopard', 'lion',\n",
        "    'lizard', 'lobster', 'man', 'maple_tree', 'motorcycle', 'mountain', 'mouse',\n",
        "    'mushroom', 'oak_tree', 'orange', 'orchid', 'otter', 'palm_tree', 'pear',\n",
        "    'pickup_truck', 'pine_tree', 'plain', 'plate', 'poppy', 'porcupine',\n",
        "    'possum', 'rabbit', 'raccoon', 'ray', 'road', 'rocket', 'rose',\n",
        "    'sea', 'seal', 'shark', 'shrew', 'skunk', 'skyscraper', 'snail', 'snake',\n",
        "    'spider', 'squirrel', 'streetcar', 'sunflower', 'sweet_pepper', 'table',\n",
        "    'tank', 'telephone', 'television', 'tiger', 'tractor', 'train', 'trout',\n",
        "    'tulip', 'turtle', 'wardrobe', 'whale', 'willow_tree', 'wolf', 'woman',\n",
        "    'worm'\n",
        "]\n",
        "\n",
        "\n",
        "from sklearn.metrics import confusion_matrix\n",
        "\n",
        "y_pred = []\n",
        "y_true = []\n",
        "trues = 0\n",
        "\n",
        "length = len(pred)\n",
        "preds = np.argmax(pred, axis =1)\n",
        "for j in range(length):\n",
        "    prediction = CIFAR100_LABELS_LIST[preds[j]]\n",
        "    true_label = CIFAR100_LABELS_LIST[raw_y_test[j][0]]\n",
        "    y_pred.append(prediction)\n",
        "    y_true.append(true_label)\n",
        "    if(prediction == true_label):\n",
        "        trues += 1\n",
        "\n",
        "print(\"Final accuracy:\", trues / len(preds))\n",
        "\n",
        "cm = confusion_matrix(y_true, y_pred, labels=CIFAR100_LABELS_LIST)\n",
        "print(cm)\n"
      ],
      "execution_count": 9,
      "outputs": [
        {
          "output_type": "stream",
          "text": [
            "Final accuracy: 0.8015\n",
            "[[98  0  0 ...  0  0  0]\n",
            " [ 0 94  0 ...  0  0  0]\n",
            " [ 0  0 64 ...  0  2  0]\n",
            " ...\n",
            " [ 0  0  0 ... 82  0  0]\n",
            " [ 0  0  1 ...  1 63  0]\n",
            " [ 0  0  0 ...  0  0 86]]\n"
          ],
          "name": "stdout"
        }
      ]
    }
  ]
}